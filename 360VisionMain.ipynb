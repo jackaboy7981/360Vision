{
  "nbformat": 4,
  "nbformat_minor": 0,
  "metadata": {
    "colab": {
      "provenance": []
    },
    "kernelspec": {
      "name": "python3",
      "display_name": "Python 3"
    },
    "language_info": {
      "name": "python"
    }
  },
  "cells": [
    {
      "cell_type": "markdown",
      "source": [
        "#Configurations"
      ],
      "metadata": {
        "id": "AC-4tm83-aqC"
      }
    },
    {
      "cell_type": "code",
      "execution_count": 2,
      "metadata": {
        "id": "XEe2z_tD91VC"
      },
      "outputs": [],
      "source": [
        "import json\n",
        "Config = {\n",
        "    \"X-Axis\":[-20,20],\n",
        "    \"Y-Axis\":[-20,20],\n",
        "    \"Z-Axis\":[0,10],\n",
        "    \"Category\":[],\n",
        "    \"CategoryColors\":{}\n",
        "};\n",
        "\n",
        "with open(\"config.json\",\"w\") as config:\n",
        "  config.write(json.dumps(Config, indent = 4));"
      ]
    }
  ]
}