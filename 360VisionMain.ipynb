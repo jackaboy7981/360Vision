{
  "nbformat": 4,
  "nbformat_minor": 0,
  "metadata": {
    "colab": {
      "provenance": []
    },
    "kernelspec": {
      "name": "python3",
      "display_name": "Python 3"
    },
    "language_info": {
      "name": "python"
    }
  },
  "cells": [
    {
      "cell_type": "markdown",
      "source": [
        "#Configurations"
      ],
      "metadata": {
        "id": "AC-4tm83-aqC"
      }
    },
    {
      "cell_type": "code",
      "execution_count": 2,
      "metadata": {
        "id": "XEe2z_tD91VC"
      },
      "outputs": [],
      "source": [
        "import json\n",
        "Config = {\n",
        "    \"X-Axis\":[-20,20],\n",
        "    \"Y-Axis\":[-20,20],\n",
        "    \"Z-Axis\":[0,10],\n",
        "    \"Category\":[\"Main\",\"Car\"],\n",
        "    \"CategoryColors\":{\"Main\":\"Black\", \"Car\":\"Red\"}\n",
        "};\n",
        "\n",
        "with open(\"config.json\",\"w\") as config:\n",
        "  config.write(json.dumps(Config, indent = 4));"
      ]
    },
    {
      "cell_type": "markdown",
      "source": [
        "#Repo Cloning"
      ],
      "metadata": {
        "id": "bBdIBjKPELV_"
      }
    },
    {
      "cell_type": "code",
      "source": [
        "!git clone https://github.com/jackaboy7981/360Vision.git\n",
        "%cd /content/360Vision/"
      ],
      "metadata": {
        "colab": {
          "base_uri": "https://localhost:8080/"
        },
        "id": "caR66Fy6ERTj",
        "outputId": "1cd2b4e6-bc79-4730-a023-c4d97ba2dd47"
      },
      "execution_count": null,
      "outputs": [
        {
          "output_type": "stream",
          "name": "stdout",
          "text": [
            "Cloning into '360Vision'...\n",
            "remote: Enumerating objects: 5, done.\u001b[K\n",
            "remote: Counting objects: 100% (5/5), done.\u001b[K\n",
            "remote: Compressing objects: 100% (4/4), done.\u001b[K\n",
            "remote: Total 5 (delta 0), reused 5 (delta 0), pack-reused 0\u001b[K\n",
            "Receiving objects: 100% (5/5), done.\n"
          ]
        }
      ]
    }
  ]
}